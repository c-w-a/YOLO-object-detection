{
  "cells": [
    {
      "cell_type": "code",
      "execution_count": 1,
      "metadata": {
        "id": "LQ9BDgtz7BC5"
      },
      "outputs": [],
      "source": [
        "\n",
        "# @markdown Name this new dataset:\n",
        "dataset = '' # @param {type:'string'}\n",
        "\n",
        "# @title ## STEP 1 : Dataset Parameters\n",
        "# @markdown Select the things you want your model to detect:\n",
        "# @markdown Animals:\n",
        "person = False # @param {type:'boolean'}\n",
        "cat = False # @param {type:'boolean'}\n",
        "dog = False # @param {type:'boolean'}\n",
        "horse = False # @param {type:'boolean'}\n",
        "cow = False # @param {type:'boolean'}\n",
        "elephant = False # @param {type:'boolean'}\n",
        "bear = False # @param {type:'boolean'}\n",
        "zebra = False # @param {type:'boolean'}\n",
        "giraffe = False # @param {type:'boolean'}\n",
        "# @markdown Vehicles:\n",
        "car = False # @param {type:'boolean'}\n",
        "truck = False # @param {type:'boolean'}\n",
        "bus = False # @param {type:'boolean'}\n",
        "boat = False # @param {type:'boolean'}\n",
        "motorcycle = False # @param {type:'boolean'}\n",
        "airplane = False # @param {type:'boolean'}\n",
        "potted_plant = False # @param {type:'boolean'}\n",
        "train = False # @param {type:'boolean'}\n",
        "# @markdown Things:\n",
        "toilet = False # @param {type:'boolean'}\n",
        "skateboard = False # @param {type:'boolean'}\n",
        "knife = False # @param {type:'boolean'}\n",
        "bicycle = False # @param {type:'boolean'}\n",
        "umbrella = False # @param {type:'boolean'}\n",
        "\n",
        "# @markdown Choose the maximum number of videos you want to download:\n",
        "# @markdown (some may have been taken off of YouTube, etc..)\n",
        "max_videos_to_download = 0 # @param {type:'integer'}\n",
        "\n",
        "# @markdown Enter percentage of data to use for train set:\n",
        "training_percent = 70 # @param {type: 'integer'}\n",
        "# @markdown What to do with the rest?\n",
        "half_half = False # ['Use it all for val set', 'Half val set, half test set'] {type: 'string'}\n",
        "\n",
        "# @markdown Shuffle videos before downloading?\n",
        "# @markdown (recommended unless you want a very unbalanced dataset)\n",
        "shuffle = True # @param {type:'bool'}"
      ]
    },
    {
      "cell_type": "code",
      "execution_count": 2,
      "metadata": {
        "id": "8rqz7ttf9vCt"
      },
      "outputs": [],
      "source": [
        "# @title ## STEP 2 : Model Selection\n",
        "# @markdown Choose which size of YOLOv5 model to use:\n",
        "network_size = 'small' # @param ['small', 'medium', 'large', 'xl'] {type:'string'}"
      ]
    }
  ],
  "metadata": {
    "colab": {
      "provenance": []
    },
    "kernelspec": {
      "display_name": "Python 3",
      "name": "python3"
    },
    "language_info": {
      "codemirror_mode": {
        "name": "ipython",
        "version": 3
      },
      "file_extension": ".py",
      "mimetype": "text/x-python",
      "name": "python",
      "nbconvert_exporter": "python",
      "pygments_lexer": "ipython3",
      "version": "3.11.6"
    }
  },
  "nbformat": 4,
  "nbformat_minor": 0
}
