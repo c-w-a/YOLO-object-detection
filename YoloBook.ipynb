{
  "nbformat": 4,
  "nbformat_minor": 0,
  "metadata": {
    "colab": {
      "provenance": []
    },
    "kernelspec": {
      "name": "python3",
      "display_name": "Python 3"
    },
    "language_info": {
      "name": "python"
    }
  },
  "cells": [
    {
      "cell_type": "code",
      "execution_count": 3,
      "metadata": {
        "id": "LQ9BDgtz7BC5"
      },
      "outputs": [],
      "source": [
        "\n",
        "# @markdown Name this new dataset:\n",
        "dataset_name = '' # @param {type:'string'}\n",
        "\n",
        "# @title ## STEP 1 : Dataset Parameters\n",
        "# @markdown Select the things you want your model to detect:\n",
        "\n",
        "person = False # @param {type:'boolean'}\n",
        "cat = False # @param {type:'boolean'}\n",
        "dog = False # @param {type:'boolean'}\n",
        "horse = False # @param {type:'boolean'}\n",
        "\n",
        "# @markdown Choose the maximum number of videos you want to download:\n",
        "# @markdown (some may have been taken off of YouTube, etc..)\n",
        "max_videos_to_download = 0 # @param {type:'integer'}\n"
      ]
    },
    {
      "cell_type": "code",
      "source": [
        "# @title ## STEP 2 : Model Selection\n",
        "# @markdown Choose which size of YOLOv5 model to use:\n",
        "\n",
        "network_size = 'small' # @param ['small', 'medium', 'large', 'xl'] {type:'string'}"
      ],
      "metadata": {
        "id": "8rqz7ttf9vCt"
      },
      "execution_count": null,
      "outputs": []
    }
  ]
}